{
  "cells": [
    {
      "cell_type": "markdown",
      "metadata": {},
      "source": [
        "## Testing"
      ]
    },
    {
      "cell_type": "code",
      "execution_count": null,
      "metadata": {
        "colab": {
          "base_uri": "https://localhost:8080/"
        },
        "id": "VjYy0F2gZIPR",
        "outputId": "e30784bc-b584-4499-bd4b-a31ee03f77f6"
      },
      "outputs": [],
      "source": [
        "%cd /content\n",
        "!git clone https://github.com/SWivid/F5-TTS.git\n",
        "%cd F5-TTS\n",
        "\n",
        "!pip install -q torch torchaudio\n",
        "!pip install -q -e .\n",
        "\n",
        "# uncomment if you plan to use BigVGAN vocoder\n",
        "# !git submodule update --init --recursive\n",
        "\n",
        "!f5-tts_infer-gradio --share"
      ]
    },
    {
      "cell_type": "markdown",
      "metadata": {},
      "source": [
        "## Fine Tuning"
      ]
    },
    {
      "cell_type": "code",
      "execution_count": null,
      "metadata": {},
      "outputs": [],
      "source": [
        "!f5-tts_finetune-gradio"
      ]
    }
  ],
  "metadata": {
    "accelerator": "GPU",
    "colab": {
      "gpuType": "T4",
      "provenance": []
    },
    "kernelspec": {
      "display_name": "Python 3",
      "name": "python3"
    },
    "language_info": {
      "name": "python"
    }
  },
  "nbformat": 4,
  "nbformat_minor": 0
}
